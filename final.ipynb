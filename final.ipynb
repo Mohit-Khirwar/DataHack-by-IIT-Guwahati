{
 "cells": [
  {
   "cell_type": "code",
   "execution_count": 89,
   "id": "f79084da",
   "metadata": {},
   "outputs": [],
   "source": [
    "import pandas as pd"
   ]
  },
  {
   "cell_type": "code",
   "execution_count": 90,
   "id": "ab31f62c",
   "metadata": {},
   "outputs": [],
   "source": [
    "df_f=pd.read_csv('training_set_features.csv')"
   ]
  },
  {
   "cell_type": "code",
   "execution_count": 91,
   "id": "196c866e",
   "metadata": {},
   "outputs": [],
   "source": [
    "df = df_f.drop(['employment_industry','employment_occupation','rent_or_own','marital_status','opinion_seas_sick_from_vacc','opinion_seas_risk','opinion_seas_vacc_effective','doctor_recc_seasonal'], axis=1)"
   ]
  },
  {
   "cell_type": "code",
   "execution_count": 92,
   "id": "e9017b2e",
   "metadata": {},
   "outputs": [],
   "source": [
    "mode_values = df.mode().iloc[0]\n",
    "\n",
    "# Fill missing values with the mode of each column\n",
    "df = df.fillna(mode_values)"
   ]
  },
  {
   "cell_type": "code",
   "execution_count": null,
   "id": "dd87fc7e",
   "metadata": {},
   "outputs": [],
   "source": []
  },
  {
   "cell_type": "code",
   "execution_count": 93,
   "id": "1e97f086",
   "metadata": {},
   "outputs": [],
   "source": [
    "from sklearn.compose import ColumnTransformer\n",
    "from sklearn.preprocessing import OneHotEncoder"
   ]
  },
  {
   "cell_type": "code",
   "execution_count": 94,
   "id": "66fd6ab9",
   "metadata": {},
   "outputs": [],
   "source": [
    "column_transformer = ColumnTransformer(\n",
    "    transformers=[\n",
    "        ('onehot1', OneHotEncoder(), ['census_msa']),\n",
    "        ('onehot2', OneHotEncoder(), ['hhs_geo_region']),\n",
    "        ('onehot3', OneHotEncoder(), ['employment_status']),\n",
    "        ('onehot6', OneHotEncoder(), ['income_poverty']),\n",
    "        ('onehot7', OneHotEncoder(), ['sex']),\n",
    "        ('onehot8', OneHotEncoder(), ['race']),\n",
    "        ('onehot9', OneHotEncoder(), ['education']),\n",
    "        ('onehot10', OneHotEncoder(), ['age_group']),\n",
    "    ],\n",
    "    remainder='passthrough'  # Keep the other columns as they are\n",
    ")"
   ]
  },
  {
   "cell_type": "code",
   "execution_count": 95,
   "id": "161977ce",
   "metadata": {},
   "outputs": [],
   "source": [
    "transformed_data = column_transformer.fit_transform(df)\n",
    "\n",
    "# Convert the transformed data back to a DataFrame\n",
    "transformed_df = pd.DataFrame(\n",
    "    transformed_data, \n",
    "    columns=column_transformer.get_feature_names_out()\n",
    ")"
   ]
  },
  {
   "cell_type": "code",
   "execution_count": 96,
   "id": "24776ef2",
   "metadata": {},
   "outputs": [],
   "source": [
    "df_f=transformed_df"
   ]
  },
  {
   "cell_type": "code",
   "execution_count": 97,
   "id": "58c79392",
   "metadata": {},
   "outputs": [
    {
     "data": {
      "text/plain": [
       "(26707, 54)"
      ]
     },
     "execution_count": 97,
     "metadata": {},
     "output_type": "execute_result"
    }
   ],
   "source": [
    "df_f.shape"
   ]
  },
  {
   "cell_type": "code",
   "execution_count": 98,
   "id": "f0e3de78",
   "metadata": {},
   "outputs": [],
   "source": [
    "df_t=pd.read_csv('training_set_labels.csv')"
   ]
  },
  {
   "cell_type": "code",
   "execution_count": 99,
   "id": "bc196a3f",
   "metadata": {},
   "outputs": [],
   "source": [
    "X=df_f.iloc[:,:]"
   ]
  },
  {
   "cell_type": "code",
   "execution_count": 100,
   "id": "24b79709",
   "metadata": {},
   "outputs": [],
   "source": [
    "y=df_t.iloc[:,1:2]"
   ]
  },
  {
   "cell_type": "code",
   "execution_count": 101,
   "id": "310aa028",
   "metadata": {},
   "outputs": [],
   "source": [
    "import numpy as np\n",
    "from sklearn.model_selection import train_test_split\n",
    "from sklearn.naive_bayes import GaussianNB\n",
    "from sklearn.metrics import accuracy_score"
   ]
  },
  {
   "cell_type": "code",
   "execution_count": 102,
   "id": "66b186c7",
   "metadata": {},
   "outputs": [],
   "source": [
    "X_train, X_test, y_train, y_test = train_test_split(X, y, test_size=0.2, random_state=42)"
   ]
  },
  {
   "cell_type": "code",
   "execution_count": 103,
   "id": "8ff90eb0",
   "metadata": {},
   "outputs": [
    {
     "name": "stderr",
     "output_type": "stream",
     "text": [
      "C:\\Users\\mkhir\\anaconda3\\Lib\\site-packages\\sklearn\\utils\\validation.py:1184: DataConversionWarning: A column-vector y was passed when a 1d array was expected. Please change the shape of y to (n_samples, ), for example using ravel().\n",
      "  y = column_or_1d(y, warn=True)\n"
     ]
    },
    {
     "data": {
      "text/html": [
       "<style>#sk-container-id-5 {color: black;}#sk-container-id-5 pre{padding: 0;}#sk-container-id-5 div.sk-toggleable {background-color: white;}#sk-container-id-5 label.sk-toggleable__label {cursor: pointer;display: block;width: 100%;margin-bottom: 0;padding: 0.3em;box-sizing: border-box;text-align: center;}#sk-container-id-5 label.sk-toggleable__label-arrow:before {content: \"▸\";float: left;margin-right: 0.25em;color: #696969;}#sk-container-id-5 label.sk-toggleable__label-arrow:hover:before {color: black;}#sk-container-id-5 div.sk-estimator:hover label.sk-toggleable__label-arrow:before {color: black;}#sk-container-id-5 div.sk-toggleable__content {max-height: 0;max-width: 0;overflow: hidden;text-align: left;background-color: #f0f8ff;}#sk-container-id-5 div.sk-toggleable__content pre {margin: 0.2em;color: black;border-radius: 0.25em;background-color: #f0f8ff;}#sk-container-id-5 input.sk-toggleable__control:checked~div.sk-toggleable__content {max-height: 200px;max-width: 100%;overflow: auto;}#sk-container-id-5 input.sk-toggleable__control:checked~label.sk-toggleable__label-arrow:before {content: \"▾\";}#sk-container-id-5 div.sk-estimator input.sk-toggleable__control:checked~label.sk-toggleable__label {background-color: #d4ebff;}#sk-container-id-5 div.sk-label input.sk-toggleable__control:checked~label.sk-toggleable__label {background-color: #d4ebff;}#sk-container-id-5 input.sk-hidden--visually {border: 0;clip: rect(1px 1px 1px 1px);clip: rect(1px, 1px, 1px, 1px);height: 1px;margin: -1px;overflow: hidden;padding: 0;position: absolute;width: 1px;}#sk-container-id-5 div.sk-estimator {font-family: monospace;background-color: #f0f8ff;border: 1px dotted black;border-radius: 0.25em;box-sizing: border-box;margin-bottom: 0.5em;}#sk-container-id-5 div.sk-estimator:hover {background-color: #d4ebff;}#sk-container-id-5 div.sk-parallel-item::after {content: \"\";width: 100%;border-bottom: 1px solid gray;flex-grow: 1;}#sk-container-id-5 div.sk-label:hover label.sk-toggleable__label {background-color: #d4ebff;}#sk-container-id-5 div.sk-serial::before {content: \"\";position: absolute;border-left: 1px solid gray;box-sizing: border-box;top: 0;bottom: 0;left: 50%;z-index: 0;}#sk-container-id-5 div.sk-serial {display: flex;flex-direction: column;align-items: center;background-color: white;padding-right: 0.2em;padding-left: 0.2em;position: relative;}#sk-container-id-5 div.sk-item {position: relative;z-index: 1;}#sk-container-id-5 div.sk-parallel {display: flex;align-items: stretch;justify-content: center;background-color: white;position: relative;}#sk-container-id-5 div.sk-item::before, #sk-container-id-5 div.sk-parallel-item::before {content: \"\";position: absolute;border-left: 1px solid gray;box-sizing: border-box;top: 0;bottom: 0;left: 50%;z-index: -1;}#sk-container-id-5 div.sk-parallel-item {display: flex;flex-direction: column;z-index: 1;position: relative;background-color: white;}#sk-container-id-5 div.sk-parallel-item:first-child::after {align-self: flex-end;width: 50%;}#sk-container-id-5 div.sk-parallel-item:last-child::after {align-self: flex-start;width: 50%;}#sk-container-id-5 div.sk-parallel-item:only-child::after {width: 0;}#sk-container-id-5 div.sk-dashed-wrapped {border: 1px dashed gray;margin: 0 0.4em 0.5em 0.4em;box-sizing: border-box;padding-bottom: 0.4em;background-color: white;}#sk-container-id-5 div.sk-label label {font-family: monospace;font-weight: bold;display: inline-block;line-height: 1.2em;}#sk-container-id-5 div.sk-label-container {text-align: center;}#sk-container-id-5 div.sk-container {/* jupyter's `normalize.less` sets `[hidden] { display: none; }` but bootstrap.min.css set `[hidden] { display: none !important; }` so we also need the `!important` here to be able to override the default hidden behavior on the sphinx rendered scikit-learn.org. See: https://github.com/scikit-learn/scikit-learn/issues/21755 */display: inline-block !important;position: relative;}#sk-container-id-5 div.sk-text-repr-fallback {display: none;}</style><div id=\"sk-container-id-5\" class=\"sk-top-container\"><div class=\"sk-text-repr-fallback\"><pre>GaussianNB()</pre><b>In a Jupyter environment, please rerun this cell to show the HTML representation or trust the notebook. <br />On GitHub, the HTML representation is unable to render, please try loading this page with nbviewer.org.</b></div><div class=\"sk-container\" hidden><div class=\"sk-item\"><div class=\"sk-estimator sk-toggleable\"><input class=\"sk-toggleable__control sk-hidden--visually\" id=\"sk-estimator-id-5\" type=\"checkbox\" checked><label for=\"sk-estimator-id-5\" class=\"sk-toggleable__label sk-toggleable__label-arrow\">GaussianNB</label><div class=\"sk-toggleable__content\"><pre>GaussianNB()</pre></div></div></div></div></div>"
      ],
      "text/plain": [
       "GaussianNB()"
      ]
     },
     "execution_count": 103,
     "metadata": {},
     "output_type": "execute_result"
    }
   ],
   "source": [
    "# Initialize the Gaussian Naive Bayes model\n",
    "gnb = GaussianNB()\n",
    "\n",
    "# Train the model\n",
    "gnb.fit(X_train, y_train)"
   ]
  },
  {
   "cell_type": "code",
   "execution_count": 104,
   "id": "5117daf0",
   "metadata": {},
   "outputs": [
    {
     "data": {
      "text/plain": [
       "0.8053163609135155"
      ]
     },
     "execution_count": 104,
     "metadata": {},
     "output_type": "execute_result"
    }
   ],
   "source": [
    "# Make predictions on the test set\n",
    "y_pred = gnb.predict(X_test)\n",
    "\n",
    "# Obtain predicted probabilities\n",
    "#y_pred_prob = gnb.predict_proba(X_test)\n",
    "\n",
    "# Calculate accuracy (just as an example metric)\n",
    "accuracy = accuracy_score(y_test, y_pred)\n",
    "\n",
    "accuracy"
   ]
  },
  {
   "cell_type": "code",
   "execution_count": 105,
   "id": "c71d59ff",
   "metadata": {},
   "outputs": [],
   "source": [
    "df1=pd.read_csv('training_set_features.csv')"
   ]
  },
  {
   "cell_type": "code",
   "execution_count": 106,
   "id": "da7da29d",
   "metadata": {},
   "outputs": [],
   "source": [
    "df1 = df1.drop(['employment_industry','employment_occupation','rent_or_own','marital_status','xyz_concern','xyz_knowledge','opinion_xyz_vacc_effective','opinion_xyz_risk','opinion_xyz_sick_from_vacc'], axis=1)"
   ]
  },
  {
   "cell_type": "code",
   "execution_count": 107,
   "id": "4401470e",
   "metadata": {},
   "outputs": [],
   "source": [
    "mode_values = df1.mode().iloc[0]\n",
    "\n",
    "# Fill missing values with the mode of each column\n",
    "df1 = df1.fillna(mode_values)"
   ]
  },
  {
   "cell_type": "code",
   "execution_count": 108,
   "id": "eaa825e6",
   "metadata": {},
   "outputs": [],
   "source": [
    "from sklearn.compose import ColumnTransformer\n",
    "from sklearn.preprocessing import OneHotEncoder"
   ]
  },
  {
   "cell_type": "code",
   "execution_count": 109,
   "id": "9fc5e746",
   "metadata": {},
   "outputs": [],
   "source": [
    "column_transformer = ColumnTransformer(\n",
    "    transformers=[\n",
    "        ('onehot1', OneHotEncoder(), ['census_msa']),\n",
    "        ('onehot2', OneHotEncoder(), ['hhs_geo_region']),\n",
    "        ('onehot3', OneHotEncoder(), ['employment_status']),\n",
    "        ('onehot6', OneHotEncoder(), ['income_poverty']),\n",
    "        ('onehot7', OneHotEncoder(), ['sex']),\n",
    "        ('onehot8', OneHotEncoder(), ['race']),\n",
    "        ('onehot9', OneHotEncoder(), ['education']),\n",
    "        ('onehot10', OneHotEncoder(), ['age_group']),\n",
    "    ],\n",
    "    remainder='passthrough'  # Keep the other columns as they are\n",
    ")"
   ]
  },
  {
   "cell_type": "code",
   "execution_count": 110,
   "id": "ef91dc9c",
   "metadata": {},
   "outputs": [],
   "source": [
    "transformed_data1 = column_transformer.fit_transform(df1)\n",
    "\n",
    "# Convert the transformed data back to a DataFrame\n",
    "transformed_df1 = pd.DataFrame(\n",
    "    transformed_data1, \n",
    "    columns=column_transformer.get_feature_names_out()\n",
    ")"
   ]
  },
  {
   "cell_type": "code",
   "execution_count": 111,
   "id": "d21b9ac3",
   "metadata": {},
   "outputs": [],
   "source": [
    "df1=transformed_df1"
   ]
  },
  {
   "cell_type": "code",
   "execution_count": 112,
   "id": "6a692089",
   "metadata": {},
   "outputs": [],
   "source": [
    "X1=df1.iloc[:,:]"
   ]
  },
  {
   "cell_type": "code",
   "execution_count": 113,
   "id": "66f9b03d",
   "metadata": {},
   "outputs": [],
   "source": [
    "y1=df1.iloc[:,2]"
   ]
  },
  {
   "cell_type": "code",
   "execution_count": 114,
   "id": "edad7a20",
   "metadata": {},
   "outputs": [],
   "source": [
    "X_train1, X_test1, y_train1, y_test1 = train_test_split(X1, y1, test_size=0.2, random_state=42)"
   ]
  },
  {
   "cell_type": "code",
   "execution_count": 115,
   "id": "fee7cc5e",
   "metadata": {},
   "outputs": [
    {
     "data": {
      "text/html": [
       "<style>#sk-container-id-6 {color: black;}#sk-container-id-6 pre{padding: 0;}#sk-container-id-6 div.sk-toggleable {background-color: white;}#sk-container-id-6 label.sk-toggleable__label {cursor: pointer;display: block;width: 100%;margin-bottom: 0;padding: 0.3em;box-sizing: border-box;text-align: center;}#sk-container-id-6 label.sk-toggleable__label-arrow:before {content: \"▸\";float: left;margin-right: 0.25em;color: #696969;}#sk-container-id-6 label.sk-toggleable__label-arrow:hover:before {color: black;}#sk-container-id-6 div.sk-estimator:hover label.sk-toggleable__label-arrow:before {color: black;}#sk-container-id-6 div.sk-toggleable__content {max-height: 0;max-width: 0;overflow: hidden;text-align: left;background-color: #f0f8ff;}#sk-container-id-6 div.sk-toggleable__content pre {margin: 0.2em;color: black;border-radius: 0.25em;background-color: #f0f8ff;}#sk-container-id-6 input.sk-toggleable__control:checked~div.sk-toggleable__content {max-height: 200px;max-width: 100%;overflow: auto;}#sk-container-id-6 input.sk-toggleable__control:checked~label.sk-toggleable__label-arrow:before {content: \"▾\";}#sk-container-id-6 div.sk-estimator input.sk-toggleable__control:checked~label.sk-toggleable__label {background-color: #d4ebff;}#sk-container-id-6 div.sk-label input.sk-toggleable__control:checked~label.sk-toggleable__label {background-color: #d4ebff;}#sk-container-id-6 input.sk-hidden--visually {border: 0;clip: rect(1px 1px 1px 1px);clip: rect(1px, 1px, 1px, 1px);height: 1px;margin: -1px;overflow: hidden;padding: 0;position: absolute;width: 1px;}#sk-container-id-6 div.sk-estimator {font-family: monospace;background-color: #f0f8ff;border: 1px dotted black;border-radius: 0.25em;box-sizing: border-box;margin-bottom: 0.5em;}#sk-container-id-6 div.sk-estimator:hover {background-color: #d4ebff;}#sk-container-id-6 div.sk-parallel-item::after {content: \"\";width: 100%;border-bottom: 1px solid gray;flex-grow: 1;}#sk-container-id-6 div.sk-label:hover label.sk-toggleable__label {background-color: #d4ebff;}#sk-container-id-6 div.sk-serial::before {content: \"\";position: absolute;border-left: 1px solid gray;box-sizing: border-box;top: 0;bottom: 0;left: 50%;z-index: 0;}#sk-container-id-6 div.sk-serial {display: flex;flex-direction: column;align-items: center;background-color: white;padding-right: 0.2em;padding-left: 0.2em;position: relative;}#sk-container-id-6 div.sk-item {position: relative;z-index: 1;}#sk-container-id-6 div.sk-parallel {display: flex;align-items: stretch;justify-content: center;background-color: white;position: relative;}#sk-container-id-6 div.sk-item::before, #sk-container-id-6 div.sk-parallel-item::before {content: \"\";position: absolute;border-left: 1px solid gray;box-sizing: border-box;top: 0;bottom: 0;left: 50%;z-index: -1;}#sk-container-id-6 div.sk-parallel-item {display: flex;flex-direction: column;z-index: 1;position: relative;background-color: white;}#sk-container-id-6 div.sk-parallel-item:first-child::after {align-self: flex-end;width: 50%;}#sk-container-id-6 div.sk-parallel-item:last-child::after {align-self: flex-start;width: 50%;}#sk-container-id-6 div.sk-parallel-item:only-child::after {width: 0;}#sk-container-id-6 div.sk-dashed-wrapped {border: 1px dashed gray;margin: 0 0.4em 0.5em 0.4em;box-sizing: border-box;padding-bottom: 0.4em;background-color: white;}#sk-container-id-6 div.sk-label label {font-family: monospace;font-weight: bold;display: inline-block;line-height: 1.2em;}#sk-container-id-6 div.sk-label-container {text-align: center;}#sk-container-id-6 div.sk-container {/* jupyter's `normalize.less` sets `[hidden] { display: none; }` but bootstrap.min.css set `[hidden] { display: none !important; }` so we also need the `!important` here to be able to override the default hidden behavior on the sphinx rendered scikit-learn.org. See: https://github.com/scikit-learn/scikit-learn/issues/21755 */display: inline-block !important;position: relative;}#sk-container-id-6 div.sk-text-repr-fallback {display: none;}</style><div id=\"sk-container-id-6\" class=\"sk-top-container\"><div class=\"sk-text-repr-fallback\"><pre>GaussianNB()</pre><b>In a Jupyter environment, please rerun this cell to show the HTML representation or trust the notebook. <br />On GitHub, the HTML representation is unable to render, please try loading this page with nbviewer.org.</b></div><div class=\"sk-container\" hidden><div class=\"sk-item\"><div class=\"sk-estimator sk-toggleable\"><input class=\"sk-toggleable__control sk-hidden--visually\" id=\"sk-estimator-id-6\" type=\"checkbox\" checked><label for=\"sk-estimator-id-6\" class=\"sk-toggleable__label sk-toggleable__label-arrow\">GaussianNB</label><div class=\"sk-toggleable__content\"><pre>GaussianNB()</pre></div></div></div></div></div>"
      ],
      "text/plain": [
       "GaussianNB()"
      ]
     },
     "execution_count": 115,
     "metadata": {},
     "output_type": "execute_result"
    }
   ],
   "source": [
    "gnb1 = GaussianNB()\n",
    "\n",
    "# Train the model\n",
    "gnb1.fit(X_train1, y_train1)"
   ]
  },
  {
   "cell_type": "code",
   "execution_count": 116,
   "id": "4a2318df",
   "metadata": {},
   "outputs": [
    {
     "data": {
      "text/plain": [
       "1.0"
      ]
     },
     "execution_count": 116,
     "metadata": {},
     "output_type": "execute_result"
    }
   ],
   "source": [
    "# Make predictions on the test set\n",
    "y_pred1 = gnb1.predict(X_test1)\n",
    "\n",
    "# Obtain predicted probabilities\n",
    "#y_pred_prob = gnb.predict_proba(X_test)\n",
    "\n",
    "# Calculate accuracy (just as an example metric)\n",
    "accuracy1 = accuracy_score(y_test1, y_pred1)\n",
    "\n",
    "accuracy1"
   ]
  },
  {
   "cell_type": "code",
   "execution_count": 118,
   "id": "096e23c5",
   "metadata": {},
   "outputs": [],
   "source": [
    "test_x=pd.read_csv('test_set_features.csv')"
   ]
  },
  {
   "cell_type": "code",
   "execution_count": 120,
   "id": "a4a064a9",
   "metadata": {},
   "outputs": [],
   "source": [
    "test_x = test_x.drop(['employment_industry','employment_occupation','rent_or_own','marital_status','opinion_seas_sick_from_vacc','opinion_seas_risk','opinion_seas_vacc_effective','doctor_recc_seasonal'], axis=1)"
   ]
  },
  {
   "cell_type": "code",
   "execution_count": 124,
   "id": "a2200a81",
   "metadata": {},
   "outputs": [],
   "source": [
    "mode_values = test_x.mode().iloc[0]\n",
    "\n",
    "# Fill missing values with the mode of each column\n",
    "test_x = test_x.fillna(mode_values)"
   ]
  },
  {
   "cell_type": "code",
   "execution_count": 125,
   "id": "86a75a94",
   "metadata": {},
   "outputs": [],
   "source": [
    "from sklearn.compose import ColumnTransformer\n",
    "from sklearn.preprocessing import OneHotEncoder"
   ]
  },
  {
   "cell_type": "code",
   "execution_count": 128,
   "id": "dffeb808",
   "metadata": {},
   "outputs": [],
   "source": [
    "column_transformer = ColumnTransformer(\n",
    "    transformers=[\n",
    "        ('onehot1', OneHotEncoder(), ['census_msa']),\n",
    "        ('onehot2', OneHotEncoder(), ['hhs_geo_region']),\n",
    "        ('onehot3', OneHotEncoder(), ['employment_status']),\n",
    "        ('onehot6', OneHotEncoder(), ['income_poverty']),\n",
    "        ('onehot7', OneHotEncoder(), ['sex']),\n",
    "        ('onehot8', OneHotEncoder(), ['race']),\n",
    "        ('onehot9', OneHotEncoder(), ['education']),\n",
    "        ('onehot10', OneHotEncoder(), ['age_group']),\n",
    "    ],\n",
    "    remainder='passthrough'  # Keep the other columns as they are\n",
    ")"
   ]
  },
  {
   "cell_type": "code",
   "execution_count": 130,
   "id": "969974f3",
   "metadata": {},
   "outputs": [],
   "source": [
    "transformed_data_x = column_transformer.fit_transform(test_x)\n",
    "\n",
    "# Convert the transformed data back to a DataFrame\n",
    "transformed_df_x = pd.DataFrame(\n",
    "    transformed_data_x, \n",
    "    columns=column_transformer.get_feature_names_out()\n",
    ")"
   ]
  },
  {
   "cell_type": "code",
   "execution_count": 131,
   "id": "82711c9c",
   "metadata": {},
   "outputs": [],
   "source": [
    "test_x=transformed_df"
   ]
  },
  {
   "cell_type": "code",
   "execution_count": 132,
   "id": "fcd2613b",
   "metadata": {},
   "outputs": [],
   "source": [
    "sub_x=test_x.iloc[:,:]"
   ]
  },
  {
   "cell_type": "code",
   "execution_count": 133,
   "id": "68435087",
   "metadata": {},
   "outputs": [],
   "source": [
    "csv_x = gnb.predict_proba(sub_x)"
   ]
  },
  {
   "cell_type": "code",
   "execution_count": 134,
   "id": "252437b8",
   "metadata": {},
   "outputs": [
    {
     "data": {
      "text/plain": [
       "array([[9.98357546e-01, 1.64245441e-03],\n",
       "       [4.76095154e-01, 5.23904846e-01],\n",
       "       [9.94398816e-01, 5.60118429e-03],\n",
       "       ...,\n",
       "       [4.35249616e-01, 5.64750384e-01],\n",
       "       [9.99280659e-01, 7.19341241e-04],\n",
       "       [9.89939116e-01, 1.00608837e-02]])"
      ]
     },
     "execution_count": 134,
     "metadata": {},
     "output_type": "execute_result"
    }
   ],
   "source": [
    "csv_x"
   ]
  },
  {
   "cell_type": "code",
   "execution_count": 135,
   "id": "debeb3b9",
   "metadata": {},
   "outputs": [],
   "source": [
    "test_s=pd.read_csv('test_set_features.csv')"
   ]
  },
  {
   "cell_type": "code",
   "execution_count": 136,
   "id": "b711f772",
   "metadata": {},
   "outputs": [],
   "source": [
    "test_s = test_s.drop(['employment_industry','employment_occupation','rent_or_own','marital_status','xyz_concern','xyz_knowledge','opinion_xyz_vacc_effective','opinion_xyz_risk','opinion_xyz_sick_from_vacc'], axis=1)"
   ]
  },
  {
   "cell_type": "code",
   "execution_count": 137,
   "id": "2d8d47b7",
   "metadata": {},
   "outputs": [],
   "source": [
    "mode_values = test_s.mode().iloc[0]\n",
    "\n",
    "# Fill missing values with the mode of each column\n",
    "test_s = test_s.fillna(mode_values)"
   ]
  },
  {
   "cell_type": "code",
   "execution_count": 138,
   "id": "19cabf83",
   "metadata": {},
   "outputs": [],
   "source": [
    "from sklearn.compose import ColumnTransformer\n",
    "from sklearn.preprocessing import OneHotEncoder"
   ]
  },
  {
   "cell_type": "code",
   "execution_count": 139,
   "id": "ee923659",
   "metadata": {},
   "outputs": [],
   "source": [
    "column_transformer = ColumnTransformer(\n",
    "    transformers=[\n",
    "        ('onehot1', OneHotEncoder(), ['census_msa']),\n",
    "        ('onehot2', OneHotEncoder(), ['hhs_geo_region']),\n",
    "        ('onehot3', OneHotEncoder(), ['employment_status']),\n",
    "        ('onehot6', OneHotEncoder(), ['income_poverty']),\n",
    "        ('onehot7', OneHotEncoder(), ['sex']),\n",
    "        ('onehot8', OneHotEncoder(), ['race']),\n",
    "        ('onehot9', OneHotEncoder(), ['education']),\n",
    "        ('onehot10', OneHotEncoder(), ['age_group']),\n",
    "    ],\n",
    "    remainder='passthrough'  # Keep the other columns as they are\n",
    ")"
   ]
  },
  {
   "cell_type": "code",
   "execution_count": 140,
   "id": "ce7e04e4",
   "metadata": {},
   "outputs": [],
   "source": [
    "transformed_data_s = column_transformer.fit_transform(test_s)\n",
    "\n",
    "# Convert the transformed data back to a DataFrame\n",
    "transformed_df_s = pd.DataFrame(\n",
    "    transformed_data_s, \n",
    "    columns=column_transformer.get_feature_names_out()\n",
    ")"
   ]
  },
  {
   "cell_type": "code",
   "execution_count": 141,
   "id": "b8b8f3f2",
   "metadata": {},
   "outputs": [],
   "source": [
    "test_s=transformed_df_s"
   ]
  },
  {
   "cell_type": "code",
   "execution_count": 142,
   "id": "24dd395d",
   "metadata": {},
   "outputs": [],
   "source": [
    "sub_s=test_s.iloc[:,:]"
   ]
  },
  {
   "cell_type": "code",
   "execution_count": 143,
   "id": "eb83513f",
   "metadata": {},
   "outputs": [],
   "source": [
    "csv_s = gnb1.predict_proba(sub_s)"
   ]
  },
  {
   "cell_type": "code",
   "execution_count": 148,
   "id": "b8a7ae88",
   "metadata": {},
   "outputs": [],
   "source": [
    "csv_x = csv_x.flatten()\n",
    "csv_s = csv_s.flatten()\n"
   ]
  },
  {
   "cell_type": "code",
   "execution_count": 150,
   "id": "db263c78",
   "metadata": {},
   "outputs": [
    {
     "data": {
      "text/plain": [
       "(53414,)"
      ]
     },
     "execution_count": 150,
     "metadata": {},
     "output_type": "execute_result"
    }
   ],
   "source": [
    "csv_x.shape"
   ]
  },
  {
   "cell_type": "code",
   "execution_count": 151,
   "id": "ea442a5b",
   "metadata": {},
   "outputs": [
    {
     "data": {
      "text/plain": [
       "(53416,)"
      ]
     },
     "execution_count": 151,
     "metadata": {},
     "output_type": "execute_result"
    }
   ],
   "source": [
    "csv_s.shape"
   ]
  },
  {
   "cell_type": "code",
   "execution_count": 153,
   "id": "141b90bc",
   "metadata": {},
   "outputs": [],
   "source": [
    "indices_to_remove = [53414, 53415]\n",
    "csv_s = np.delete(csv_s, indices_to_remove)\n"
   ]
  },
  {
   "cell_type": "code",
   "execution_count": null,
   "id": "6d2c22b2",
   "metadata": {},
   "outputs": [],
   "source": []
  },
  {
   "cell_type": "code",
   "execution_count": 154,
   "id": "5fe5af07",
   "metadata": {},
   "outputs": [
    {
     "data": {
      "text/html": [
       "<div>\n",
       "<style scoped>\n",
       "    .dataframe tbody tr th:only-of-type {\n",
       "        vertical-align: middle;\n",
       "    }\n",
       "\n",
       "    .dataframe tbody tr th {\n",
       "        vertical-align: top;\n",
       "    }\n",
       "\n",
       "    .dataframe thead th {\n",
       "        text-align: right;\n",
       "    }\n",
       "</style>\n",
       "<table border=\"1\" class=\"dataframe\">\n",
       "  <thead>\n",
       "    <tr style=\"text-align: right;\">\n",
       "      <th></th>\n",
       "      <th>XYZ</th>\n",
       "      <th>seasonal</th>\n",
       "    </tr>\n",
       "  </thead>\n",
       "  <tbody>\n",
       "    <tr>\n",
       "      <th>0</th>\n",
       "      <td>0.998358</td>\n",
       "      <td>1.000000e+00</td>\n",
       "    </tr>\n",
       "    <tr>\n",
       "      <th>1</th>\n",
       "      <td>0.001642</td>\n",
       "      <td>1.131349e-09</td>\n",
       "    </tr>\n",
       "    <tr>\n",
       "      <th>2</th>\n",
       "      <td>0.476095</td>\n",
       "      <td>8.382527e-06</td>\n",
       "    </tr>\n",
       "    <tr>\n",
       "      <th>3</th>\n",
       "      <td>0.523905</td>\n",
       "      <td>9.999916e-01</td>\n",
       "    </tr>\n",
       "    <tr>\n",
       "      <th>4</th>\n",
       "      <td>0.994399</td>\n",
       "      <td>1.001149e-04</td>\n",
       "    </tr>\n",
       "    <tr>\n",
       "      <th>...</th>\n",
       "      <td>...</td>\n",
       "      <td>...</td>\n",
       "    </tr>\n",
       "    <tr>\n",
       "      <th>53409</th>\n",
       "      <td>0.564750</td>\n",
       "      <td>9.999883e-01</td>\n",
       "    </tr>\n",
       "    <tr>\n",
       "      <th>53410</th>\n",
       "      <td>0.999281</td>\n",
       "      <td>9.999996e-01</td>\n",
       "    </tr>\n",
       "    <tr>\n",
       "      <th>53411</th>\n",
       "      <td>0.000719</td>\n",
       "      <td>4.285454e-07</td>\n",
       "    </tr>\n",
       "    <tr>\n",
       "      <th>53412</th>\n",
       "      <td>0.989939</td>\n",
       "      <td>9.999991e-01</td>\n",
       "    </tr>\n",
       "    <tr>\n",
       "      <th>53413</th>\n",
       "      <td>0.010061</td>\n",
       "      <td>9.172276e-07</td>\n",
       "    </tr>\n",
       "  </tbody>\n",
       "</table>\n",
       "<p>53414 rows × 2 columns</p>\n",
       "</div>"
      ],
      "text/plain": [
       "            XYZ      seasonal\n",
       "0      0.998358  1.000000e+00\n",
       "1      0.001642  1.131349e-09\n",
       "2      0.476095  8.382527e-06\n",
       "3      0.523905  9.999916e-01\n",
       "4      0.994399  1.001149e-04\n",
       "...         ...           ...\n",
       "53409  0.564750  9.999883e-01\n",
       "53410  0.999281  9.999996e-01\n",
       "53411  0.000719  4.285454e-07\n",
       "53412  0.989939  9.999991e-01\n",
       "53413  0.010061  9.172276e-07\n",
       "\n",
       "[53414 rows x 2 columns]"
      ]
     },
     "execution_count": 154,
     "metadata": {},
     "output_type": "execute_result"
    }
   ],
   "source": [
    "# Create a DataFrame from the NumPy arrays\n",
    "df_sub = pd.DataFrame({\n",
    "    'XYZ': csv_x,\n",
    "    'seasonal': csv_s\n",
    "})\n",
    "\n",
    "df_sub\n"
   ]
  },
  {
   "cell_type": "code",
   "execution_count": 158,
   "id": "63a222bd",
   "metadata": {},
   "outputs": [],
   "source": [
    "df_sub['seasonal'] = df_sub['seasonal'].apply(lambda x: float(x))\n"
   ]
  },
  {
   "cell_type": "code",
   "execution_count": 160,
   "id": "057fa154",
   "metadata": {},
   "outputs": [
    {
     "data": {
      "text/plain": [
       "XYZ         float64\n",
       "seasonal    float64\n",
       "dtype: object"
      ]
     },
     "execution_count": 160,
     "metadata": {},
     "output_type": "execute_result"
    }
   ],
   "source": [
    "df_sub.dtypes"
   ]
  },
  {
   "cell_type": "code",
   "execution_count": 161,
   "id": "7e84c0b6",
   "metadata": {},
   "outputs": [],
   "source": [
    "df_sub.to_csv('sub.csv', index=True)"
   ]
  },
  {
   "cell_type": "code",
   "execution_count": null,
   "id": "4fb275c7",
   "metadata": {},
   "outputs": [],
   "source": []
  }
 ],
 "metadata": {
  "kernelspec": {
   "display_name": "Python 3 (ipykernel)",
   "language": "python",
   "name": "python3"
  },
  "language_info": {
   "codemirror_mode": {
    "name": "ipython",
    "version": 3
   },
   "file_extension": ".py",
   "mimetype": "text/x-python",
   "name": "python",
   "nbconvert_exporter": "python",
   "pygments_lexer": "ipython3",
   "version": "3.11.5"
  }
 },
 "nbformat": 4,
 "nbformat_minor": 5
}
